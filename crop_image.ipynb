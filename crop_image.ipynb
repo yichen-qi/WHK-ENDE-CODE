{
 "cells": [
  {
   "cell_type": "code",
   "execution_count": null,
   "id": "a81b220b",
   "metadata": {},
   "outputs": [],
   "source": [
    "import os\n",
    "from PIL import Image\n",
    "import numpy as np\n",
    "\n",
    "def crop_and_pad(image, target_size=(850, 600), threshold=245):\n",
    "    image_np = np.array(image)\n",
    "\n",
    "    # 找到非白区域的掩码\n",
    "    mask = (image_np[:, :, 0] < threshold) | \\\n",
    "           (image_np[:, :, 1] < threshold) | \\\n",
    "           (image_np[:, :, 2] < threshold)\n",
    "\n",
    "    coords = np.argwhere(mask)\n",
    "    if coords.size == 0:\n",
    "        # 整张图是白的，返回一张白图\n",
    "        return Image.new(\"RGB\", target_size, (255, 255, 255))\n",
    "\n",
    "    y0, x0 = coords.min(axis=0)\n",
    "    y1, x1 = coords.max(axis=0) + 1\n",
    "    cropped = image.crop((x0, y0, x1, y1))\n",
    "\n",
    "    # 创建目标大小白底图\n",
    "    target_w, target_h = target_size\n",
    "    new_img = Image.new(\"RGB\", (target_w, target_h), (255, 255, 255))\n",
    "\n",
    "    # 限制内容区域不超过目标尺寸\n",
    "    cropped.thumbnail((target_w, target_h), Image.LANCZOS)\n",
    "\n",
    "    # 计算中心位置并粘贴\n",
    "    paste_x = (target_w - cropped.width) // 2\n",
    "    paste_y = (target_h - cropped.height) // 2\n",
    "    new_img.paste(cropped, (paste_x, paste_y))\n",
    "\n",
    "    return new_img\n",
    "\n",
    "# 路径设置\n",
    "input_dir = r\"C:\\Users\\Admin\\Desktop\\WHK ENDECODE\\only image\"\n",
    "output_dir = r\"C:\\Users\\Admin\\Desktop\\WHK ENDECODE\\lable_images\"\n",
    "os.makedirs(output_dir, exist_ok=True)\n",
    "\n",
    "for filename in os.listdir(input_dir):\n",
    "    if filename.lower().endswith((\".png\", \".jpg\", \".jpeg\")):\n",
    "        image_path = os.path.join(input_dir, filename)\n",
    "        image = Image.open(image_path).convert(\"RGB\")\n",
    "\n",
    "        processed = crop_and_pad(image, target_size=(850, 600))\n",
    "\n",
    "        save_path = os.path.join(output_dir, filename)\n",
    "        processed.save(save_path)\n",
    "        print(f\"处理完成: {save_path}\")\n"
   ]
  },
  {
   "cell_type": "code",
   "execution_count": 9,
   "id": "cde5d52e",
   "metadata": {},
   "outputs": [
    {
     "name": "stdout",
     "output_type": "stream",
     "text": [
      "图像宽度: 850, 高度: 600\n"
     ]
    }
   ],
   "source": [
    "\n",
    "image = Image.open(r\"C:\\Users\\Admin\\Desktop\\WHK ENDECODE\\lable_images\\T-19,25 A0,200 YM20,00.png\")\n",
    "width, height = image.size\n",
    "print(f\"图像宽度: {width}, 高度: {height}\")"
   ]
  }
 ],
 "metadata": {
  "kernelspec": {
   "display_name": "pytorch",
   "language": "python",
   "name": "python3"
  },
  "language_info": {
   "codemirror_mode": {
    "name": "ipython",
    "version": 3
   },
   "file_extension": ".py",
   "mimetype": "text/x-python",
   "name": "python",
   "nbconvert_exporter": "python",
   "pygments_lexer": "ipython3",
   "version": "3.12.3"
  }
 },
 "nbformat": 4,
 "nbformat_minor": 5
}
